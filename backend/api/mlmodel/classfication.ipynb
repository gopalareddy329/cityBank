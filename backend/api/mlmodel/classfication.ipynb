{
 "cells": [
  {
   "cell_type": "code",
   "execution_count": 6,
   "metadata": {},
   "outputs": [
    {
     "name": "stdout",
     "output_type": "stream",
     "text": [
      "Accuracy: 0.9180327868852459\n",
      "               precision    recall  f1-score   support\n",
      "\n",
      "          Bad       0.88      0.91      0.90       141\n",
      "         Good       0.94      0.93      0.94       223\n",
      "Out of Budget       0.00      0.00      0.00         2\n",
      "\n",
      "     accuracy                           0.92       366\n",
      "    macro avg       0.61      0.61      0.61       366\n",
      " weighted avg       0.91      0.92      0.92       366\n",
      "\n"
     ]
    }
   ],
   "source": [
    "import pandas as pd\n",
    "from sklearn.model_selection import train_test_split\n",
    "from sklearn.preprocessing import LabelEncoder, StandardScaler\n",
    "from sklearn.ensemble import RandomForestClassifier\n",
    "from sklearn.metrics import classification_report, accuracy_score\n",
    "\n",
    "# Step 1: Load data\n",
    "data = pd.read_csv(\"user_expenditure_data_six_months.csv\")\n",
    "data.head()\n",
    "\n",
    "# Step 2: Remove unnecessary columns\n",
    "data = data.drop(['User_ID', 'Transaction_ID', 'Date', 'Total_Spent','Validate', 'Can_Spent'], axis=1)\n",
    "\n",
    "# Step 3: Convert categorical variables to numeric\n",
    "label_encoder = LabelEncoder()\n",
    "data['Reason'] = label_encoder.fit_transform(data['Reason'])\n",
    "\n",
    "# Encode the target variable\n",
    "category_encoder = LabelEncoder()\n",
    "data['Category'] = category_encoder.fit_transform(data['Category'])\n",
    "\n",
    "# Step 4: Feature and target split\n",
    "X = data.drop('Category', axis=1)  # Features\n",
    "y = data['Category']  # Target\n",
    "\n",
    "# Step 5: Train-test split\n",
    "X_train, X_test, y_train, y_test = train_test_split(X, y, test_size=0.2, random_state=42)\n",
    "\n",
    "# Step 6: Normalize numerical columns (optional)\n",
    "scaler = StandardScaler()\n",
    "X_train[['Income', 'Amount_Spent','Available_Amount']] = scaler.fit_transform(X_train[['Income', 'Amount_Spent','Available_Amount']])\n",
    "X_test[['Income', 'Amount_Spent','Available_Amount']] = scaler.transform(X_test[['Income', 'Amount_Spent','Available_Amount']])\n",
    "\n",
    "# Step 7: Train a classifier (Random Forest in this case)\n",
    "clf = RandomForestClassifier(n_estimators=100, random_state=42)\n",
    "clf.fit(X_train, y_train)\n",
    "\n",
    "# Step 8: Make predictions and evaluate\n",
    "y_pred = clf.predict(X_test)\n",
    "\n",
    "# Step 9: Print accuracy and classification report\n",
    "print(\"Accuracy:\", accuracy_score(y_test, y_pred))\n",
    "\n",
    "# Specify the full range of labels to handle the missing class issue\n",
    "print(classification_report(y_test, y_pred, labels=[0, 1, 2], target_names=category_encoder.classes_, zero_division=0))"
   ]
  },
  {
   "cell_type": "code",
   "execution_count": 7,
   "metadata": {},
   "outputs": [],
   "source": [
    "import joblib "
   ]
  },
  {
   "cell_type": "code",
   "execution_count": 8,
   "metadata": {},
   "outputs": [
    {
     "data": {
      "text/plain": [
       "['random_forest_model.pkl']"
      ]
     },
     "execution_count": 8,
     "metadata": {},
     "output_type": "execute_result"
    }
   ],
   "source": [
    "# Save the encoders, scaler, and model\n",
    "joblib.dump(label_encoder, 'label_encoder_reason_class.pkl')  # Save LabelEncoder for 'Reason'\n",
    "joblib.dump(category_encoder, 'label_encoder_category_class.pkl')  # Save LabelEncoder for 'Category'\n",
    "joblib.dump(scaler, 'scaler.pkl')  # Save StandardScaler\n",
    "joblib.dump(clf, 'random_forest_model.pkl')  # Save Random Forest model"
   ]
  },
  {
   "cell_type": "code",
   "execution_count": 9,
   "metadata": {},
   "outputs": [
    {
     "name": "stdout",
     "output_type": "stream",
     "text": [
      "Predicted Category: Good\n"
     ]
    }
   ],
   "source": [
    "import joblib\n",
    "import pandas as pd\n",
    "\n",
    "# Step 1: Load the pickled files\n",
    "label_encoder_reason = joblib.load('label_encoder_reason_class.pkl')\n",
    "category_encoder = joblib.load('label_encoder_category_class.pkl')\n",
    "scaler = joblib.load('scaler.pkl')\n",
    "clf = joblib.load('random_forest_model.pkl')\n",
    "\n",
    "# Step 2: Create a sample data input\n",
    "sample_data = pd.DataFrame({\n",
    "    'Income': [20000],  # Replace with appropriate values\n",
    "    'Amount_Spent': [2500],\n",
    "    'Available_Amount': [20000],  # Replace with appropriate values\n",
    "    'Reason': ['Utilities']  # Replace with appropriate values\n",
    "})\n",
    "\n",
    "# Step 3: Preprocess the sample data\n",
    "# Encode the 'Reason' column\n",
    "sample_data['Reason'] = label_encoder_reason.transform(sample_data['Reason'])\n",
    "\n",
    "# Step 4: Retrieve the feature names used during training\n",
    "# clf was trained on certain feature names and we need to retrieve them to ensure alignment\n",
    "model_feature_names = clf.feature_names_in_\n",
    "\n",
    "# Step 5: Reorder sample_data columns to match the order of feature names used during training\n",
    "sample_data = sample_data[model_feature_names]\n",
    "\n",
    "# Step 6: Scale the numerical columns (Income, Amount_Spent, Available_Amount)\n",
    "numerical_columns = ['Income', 'Amount_Spent', 'Available_Amount']\n",
    "sample_data[numerical_columns] = scaler.transform(sample_data[numerical_columns])\n",
    "\n",
    "# Step 7: Make predictions\n",
    "predicted_category = clf.predict(sample_data)\n",
    "\n",
    "# Step 8: Inverse transform the predicted category to the original labels\n",
    "decoded_category = category_encoder.inverse_transform(predicted_category)\n",
    "\n",
    "# Print the predicted category\n",
    "print(\"Predicted Category:\", decoded_category[0])  # Output the predicted category"
   ]
  }
 ],
 "metadata": {
  "kernelspec": {
   "display_name": "Python 3",
   "language": "python",
   "name": "python3"
  },
  "language_info": {
   "codemirror_mode": {
    "name": "ipython",
    "version": 3
   },
   "file_extension": ".py",
   "mimetype": "text/x-python",
   "name": "python",
   "nbconvert_exporter": "python",
   "pygments_lexer": "ipython3",
   "version": "3.12.4"
  }
 },
 "nbformat": 4,
 "nbformat_minor": 2
}
